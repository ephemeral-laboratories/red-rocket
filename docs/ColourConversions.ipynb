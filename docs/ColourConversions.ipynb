{
 "cells": [
  {
   "cell_type": "markdown",
   "source": [
    "CIE XYZ to Linear RGB\n",
    "---------------------\n",
    "\n",
    "$$\n",
    "\\begin{bmatrix} R \\\\ G \\\\ B \\end{bmatrix}\n",
    "=\n",
    "\\begin{bmatrix}\n",
    "3.2404542 & -1.5371385 & -0.4985314 \\\\\n",
    "-0.9692660 & 1.8760108 & 0.0415560 \\\\\n",
    "0.0556434 & -0.2040259 & 1.0572252\n",
    "\\end{bmatrix}\n",
    "\\begin{bmatrix} X \\\\ Y \\\\ Z \\end{bmatrix}\n",
    "$$"
   ],
   "attachments": {},
   "metadata": {
    "datalore": {
     "type": "MD",
     "hide_input_from_viewers": false,
     "hide_output_from_viewers": false,
     "node_id": "2geW6gXJjmqAjwtJz9rZVh"
    },
    "pycharm": {
     "name": "#%% md\n"
    }
   }
  },
  {
   "cell_type": "markdown",
   "source": [
    "Linear RGB to CIE XYZ\n",
    "---------------------\n",
    "\n",
    "$$\n",
    "\\begin{bmatrix} X \\\\ Y \\\\ Z \\end{bmatrix}\n",
    "=\n",
    "\\begin{bmatrix}\n",
    "0.4124564 & 0.3575761 & 0.1804375 \\\\\n",
    "0.2126729 & 0.7151522 & 0.0721750 \\\\\n",
    "0.0193339 & 0.1191920 & 0.9503041\n",
    "\\end{bmatrix}\n",
    "\\begin{bmatrix} R \\\\ G \\\\ B \\end{bmatrix}\n",
    "$$"
   ],
   "attachments": {},
   "metadata": {
    "datalore": {
     "type": "MD",
     "hide_input_from_viewers": false,
     "hide_output_from_viewers": false,
     "node_id": "fM22kTtNvgfz9hz0ybCPHd"
    },
    "pycharm": {
     "name": "#%% md\n"
    }
   }
  },
  {
   "cell_type": "markdown",
   "source": [
    "Linear RGB to sRGB\n",
    "------------------\n",
    "\n",
    "Component-wise:\n",
    "\n",
    "$$\n",
    "v_\\text{linear} = \\begin{cases}\n",
    "12.92 v_\\text{gamma}, & \\text{for } v_\\text{gamma} <= 0.0031308 \\\\\n",
    "1.055 v_\\text{gamma}^{1/2.4} - 0.055, & \\text{for } v_\\text{gamma} > 0.0031308\n",
    "\\end{cases}\n",
    "$$"
   ],
   "attachments": {},
   "metadata": {
    "datalore": {
     "type": "MD",
     "hide_input_from_viewers": false,
     "hide_output_from_viewers": false,
     "node_id": "vbCxngfVn8ncTUj3bzkWaE"
    },
    "pycharm": {
     "name": "#%% md\n"
    }
   }
  },
  {
   "cell_type": "markdown",
   "source": [
    "sRGB to Linear RGB\n",
    "------------------\n",
    "\n",
    "Component-wise:\n",
    "\n",
    "$$\n",
    "v_\\text{gamma} = \\begin{cases}\n",
    "    \\frac{v_\\text{linear}}{12.92}, \\text{for } v_\\text{linear} < 0.04045 \\\\\n",
    "    (\\frac{v_\\text{linear} + 0.055}{1.055}) ^ {2.4}, \\text{for } v_\\text{linear} >= 0.04045\n",
    "\\end{cases}\n",
    "$$"
   ],
   "attachments": {},
   "metadata": {
    "datalore": {
     "type": "MD",
     "hide_input_from_viewers": false,
     "hide_output_from_viewers": false,
     "node_id": "ITeoj61NCu0CXAdFRzgCua"
    },
    "pycharm": {
     "name": "#%% md\n"
    }
   }
  },
  {
   "cell_type": "markdown",
   "source": [
    "Spectrum to CIE XYZ\n",
    "-------------------\n",
    "\n",
    "CIE15-2004 p. 12 eq. 7.1 gives:\n",
    "\n",
    "$$\n",
    "\tX = k \\sum φ_λ(λ) x̄(λ) Δλ \\\\\n",
    "\tY = k \\sum φ_λ(λ) ȳ(λ) Δλ \\\\\n",
    "\tZ = k \\sum φ_λ(λ) z̄(λ) Δλ\n",
    "$$\n",
    "\n",
    "where:\n",
    "* $φ_λ(λ)$ is the “colour stimulus function”, i.e., the input spectral data\n",
    "* Units are spectral radiance:\n",
    "    * power (watt)\n",
    "    * per unit solid angle (steradian)\n",
    "    * per unit of viewing area (square metre)\n",
    "    * per unit of wavelength (metre)\n",
    "* $x̄(λ)$, $ȳ(λ)$, $z̄(λ)$ are the “colour matching functions” (dimensionless)\n",
    "\n",
    "  Typically, for XYZ, you use the 2-degree functions. The 10-degree functions would produce what’s typically called X<sub>10</sub>Y<sub>10</sub>Z<sub>10</sub>, or XYZ<sub>10</sub>.\n",
    "\n",
    "* $Δλ$ is the step size between sampled wavelengths (in metres)\n",
    "* $k$ is a “normalising constant” which is either given or computed (in lumens per watt)\n",
    "\n",
    "Resulting units: lumens per steradian per square metre = candela per square metre\n",
    "\n",
    "### Spectral data for examples below"
   ],
   "metadata": {
    "collapsed": false,
    "pycharm": {
     "name": "#%% md\n"
    }
   }
  },
  {
   "cell_type": "code",
   "execution_count": 5,
   "outputs": [],
   "source": [
    "val deltaLambda = 10\n",
    "\n",
    "val cmfX = listOf(\n",
    "    1.37E-03,   4.24E-03,   1.43E-02,   4.35E-02,   1.34E-01,   2.84E-01,   3.48E-01,   3.36E-01,\n",
    "    2.91E-01,   1.95E-01,   9.56E-02,   3.20E-02,   4.90E-03,   9.30E-03,   6.33E-02,   1.66E-01,\n",
    "    2.90E-01,   4.33E-01,   5.95E-01,   7.62E-01,   9.16E-01,   1.03E+00,   1.06E+00,   1.00E+00,\n",
    "    8.54E-01,   6.42E-01,   4.48E-01,   2.84E-01,   1.65E-01,   8.74E-02,   4.68E-02,   2.27E-02,\n",
    "    1.14E-02,   5.79E-03,   2.90E-03,   1.44E-03,   6.90E-04,   3.32E-04,   1.66E-04,   8.31E-05,\n",
    "    4.15E-05,\n",
    ")\n",
    "\n",
    "val cmfY = listOf(\n",
    "    3.90E-05,   1.20E-04,   3.96E-04,   1.21E-03,   4.00E-03,   1.16E-02,   2.30E-02,   3.80E-02,\n",
    "    6.00E-02,   9.10E-02,   1.39E-01,   2.08E-01,   3.23E-01,   5.03E-01,   7.10E-01,   8.62E-01,\n",
    "    9.54E-01,   9.95E-01,   9.95E-01,   9.52E-01,   8.70E-01,   7.57E-01,   6.31E-01,   5.03E-01,\n",
    "    3.81E-01,   2.65E-01,   1.75E-01,   1.07E-01,   6.10E-02,   3.20E-02,   1.70E-02,   8.21E-03,\n",
    "    4.10E-03,   2.09E-03,   1.05E-03,   5.20E-04,   2.49E-04,   1.20E-04,   6.00E-05,   3.00E-05,\n",
    "    1.50E-05,\n",
    ")\n",
    "\n",
    "val cmfZ = listOf(\n",
    "    6.45E-03,   2.01E-02,   6.79E-02,   2.07E-01,   6.46E-01,   1.39E+00,   1.75E+00,   1.77E+00,\n",
    "    1.67E+00,   1.29E+00,   8.13E-01,   4.65E-01,   2.72E-01,   1.58E-01,   7.82E-02,   4.22E-02,\n",
    "    2.03E-02,   8.75E-03,   3.90E-03,   2.10E-03,   1.65E-03,   1.10E-03,   8.00E-04,   3.40E-04,\n",
    "    1.90E-04,   5.00E-05,   2.00E-05,   0.00E+00,   0.00E+00,   0.00E+00,   0.00E+00,   0.00E+00,\n",
    "    0.00E+00,   0.00E+00,   0.00E+00,   0.00E+00,   0.00E+00,   0.00E+00,   0.00E+00,   0.00E+00,\n",
    "    0.00E+00,\n",
    ")\n",
    "\n",
    "val illumD65 = listOf(\n",
    "     49.9755,  54.6482,  82.7549,  91.486,  93.4318,  86.6823, 104.865, 117.008,\n",
    "    117.812,  114.861,  115.923,  108.811, 109.354,  107.802,  104.790, 107.689,\n",
    "    104.405,  104.046,  100.000,   96.334,  95.788,   88.685,   90.006,  89.599,\n",
    "     87.698,   83.288,   83.699,   80.026,  80.214,   82.277,   78.284,  69.721,\n",
    "     71.609,   74.349,   61.604,   69.885,  75.087,   63.592,   46.418,  66.805,\n",
    "     63.382,\n",
    ")"
   ],
   "metadata": {
    "collapsed": false,
    "pycharm": {
     "name": "#%%\n"
    }
   }
  },
  {
   "cell_type": "markdown",
   "source": [
    "### Case 1: For emissive objects\n",
    "\n",
    "This is also the case for our rays of light.\n",
    "\n",
    "The normalising constant, $k$, must be put equal to the numerical value of $K_m$, the maximum spectral luminous efficacy (683.002 lm W<sup>-1</sup>)\n",
    "\n",
    "#### Worked example"
   ],
   "metadata": {
    "collapsed": false,
    "pycharm": {
     "name": "#%% md\n"
    }
   }
  },
  {
   "cell_type": "code",
   "execution_count": 3,
   "outputs": [
    {
     "name": "stdout",
     "output_type": "stream",
     "text": [
      "Result: X=573.4143604170075, Y=479.46670211982473, Z=63.327023182399394\r\n"
     ]
    }
   ],
   "source": [
    "val k = 683.002\n",
    "\n",
    "val spectrum = listOf(\n",
    "    0.00019,    0.00025,    0.00031,    0.00038,    0.00048,    0.000589,   0.000789,   0.001289,\n",
    "    0.00043,    0.001299,   0.00014,    0.00032,    0.005624,   0.00021,    0.00021,    0.00022,\n",
    "    0.00026,    0.001139,   0.002078,   0.025403,   0.011178,   0.014255,   0.01894,    0.007992,\n",
    "    0.004685,   0.003247,   0.002537,   0.002038,   0.001778,   0.001918,   0.001369,   0.000819,\n",
    "    0.000699,   0.000649,   0.000609,   0.000579,   0.000579,   0.000639,   0.000559,   0.002787,\n",
    "    0.000669,\n",
    ")\n",
    "\n",
    "fun integrate(cmf: List<Double>): Double {\n",
    "    return k * deltaLambda * spectrum.zip(cmf).sumByDouble { (a, b) -> a * b }\n",
    "}\n",
    "\n",
    "val x = integrate(cmfX)\n",
    "val y = integrate(cmfY)\n",
    "val z = integrate(cmfZ)\n",
    "\n",
    "println(\"Result: X=$x, Y=$y, Z=$z\")"
   ],
   "metadata": {
    "collapsed": false,
    "pycharm": {
     "name": "#%%\n"
    }
   }
  },
  {
   "cell_type": "markdown",
   "source": [
    "\n",
    "### Case 2: For reflecting or transmitting objects\n",
    "\n",
    "For reflecting or transmitting objects, the values you're capturing would be spectral reflectance or spectral transmittance, and in either case, the colour you would actually see depends on the illuminant you are using to view it.\n",
    "\n",
    "In this case, the colour stimulus function, $φ_λ(λ)$, is replaced by the relative colour stimulus function, $φ(λ)$:\n",
    "\n",
    "$$\n",
    "\tφ(λ) = R(λ) S(λ)\n",
    "$$\n",
    "\n",
    "Or,\n",
    "\n",
    "$$\n",
    "\tφ(λ) = τ(λ) S(λ)\n",
    "$$\n",
    "\n",
    "where:\n",
    "* $R(λ)$ is the spectral reflectance,\n",
    "* $τ(λ)$ is the spectral transmittance,\n",
    "* $S(λ)$ is the relative spectral power distribution of the illuminant\n",
    "\n",
    "And in this case, the normalising constant is calculated:\n",
    "\n",
    "$$\n",
    "\tk = 100 / \\sum S(λ) ȳ(λ) Δλ\n",
    "$$\n",
    "\n",
    "The 100 here is in reference to a system where XYZ values are in the range 0-100,\n",
    "so using 1 instead makes more sense here, where we want values in 0-1.\n",
    "\n",
    "#### Worked example"
   ],
   "metadata": {
    "collapsed": false,
    "pycharm": {
     "name": "#%% md\n"
    }
   }
  },
  {
   "cell_type": "code",
   "execution_count": 13,
   "outputs": [
    {
     "name": "stdout",
     "output_type": "stream",
     "text": [
      "Calculated k = 9.462466305891856E-5\r\n",
      "Result: X=0.49361492211032787, Y=0.5075979742512607, Z=0.17820536811883855\r\n"
     ]
    }
   ],
   "source": [
    "val spectrum = listOf(\n",
    "    0.12142267, 0.12142267, 0.12142267, 0.12142267, 0.13415349, 0.14107549, 0.14455311, 0.15570242,\n",
    "    0.15793179, 0.17319627, 0.17625300, 0.18248029, 0.21415237, 0.28556639, 0.39043492, 0.47046355,\n",
    "    0.51299842, 0.54612922, 0.56384951, 0.58202094, 0.59808258, 0.60983875, 0.62561158, 0.63450907,\n",
    "    0.63898517, 0.64850448, 0.65801610, 0.66075356, 0.64988718, 0.63223506, 0.63322121, 0.69249992,\n",
    "    0.75293635, 0.78131515, 0.78940615, 0.78927419, 0.78497163, 0.79003911, 0.79641291, 0.80388942,\n",
    "    0.81081897,\n",
    ")\n",
    "\n",
    "val illumCmfX = illumD65.zip(cmfX).map { (a, b) -> a * b }\n",
    "val illumCmfY = illumD65.zip(cmfY).map { (a, b) -> a * b }\n",
    "val illumCmfZ = illumD65.zip(cmfZ).map { (a, b) -> a * b }\n",
    "\n",
    "val k = 1.0 / (deltaLambda * illumCmfY.sum())\n",
    "println(\"Calculated k = $k\")\n",
    "\n",
    "fun integrate(illumCmf: List<Double>): Double {\n",
    "    return k * deltaLambda * spectrum.zip(illumCmf).sumByDouble { (a, b) -> a * b }\n",
    "}\n",
    "\n",
    "val x = integrate(illumCmfX)\n",
    "val y = integrate(illumCmfY)\n",
    "val z = integrate(illumCmfZ)\n",
    "\n",
    "println(\"Result: X=$x, Y=$y, Z=$z\")"
   ],
   "metadata": {
    "collapsed": false,
    "pycharm": {
     "name": "#%%\n"
    }
   }
  },
  {
   "cell_type": "markdown",
   "source": [
    "CIE XYZ to Spectrum\n",
    "-------------------\n",
    "\n",
    "Converting a color back to a spectrum is a non-trivial process, as there are an infinite\n",
    "number of spectra which appear to be the same colour (this is referred to as \"metamerism\".)\n",
    "\n",
    "Because of this, there isn't really a \"correct\" answer, and all you can do is specify\n",
    "your requirements, which in our case were:\n",
    "\n",
    "* The values that come back are never negative;\n",
    "* The curve looks somewhat smooth;\n",
    "* When you convert the spectrum back to a color you get roughly the same color you started with.\n",
    "\n",
    "A number of different spectral recovery algorithms were tried, and the one which came closest\n",
    "to a perfect result for us was Scott A. Burns' 2020 method, as described in\n",
    "[_Numerical methods for smoothest reflectance reconstruction,\n",
    "Color Res Appl. 2020; 45: 8–21._](https://doi.org/10.1002/col.22437)\n",
    "\n",
    "A summary of that method follows.\n",
    "\n",
    "Build the diagonal NxN matrix,\n",
    "\n",
    "$$\n",
    "D = \\begin{bmatrix}\n",
    " 2 & -2 &  0 &  0 & ... &  0 &  0 &  0 &  0 \\\\\n",
    "-2 &  4 & -2 &  0 & ... &  0 &  0 &  0 &  0 \\\\\n",
    " 0 & -2 &  4 & -2 & ... &  0 &  0 &  0 &  0 \\\\\n",
    " 0 &  0 & -2 &  4 & ... &  0 &  0 &  0 &  0 \\\\\n",
    " ... & ... & ... & ... & ... & ... & ... & ... & ... \\\\\n",
    " 0 &  0 &  0 &  0 & ... &  4 & -2 &  0 &  0 \\\\\n",
    " 0 &  0 &  0 &  0 & ... & -2 &  4 & -2 &  0 \\\\\n",
    " 0 &  0 &  0 &  0 & ... &  0 & -2 &  4 & -2 \\\\\n",
    " 0 &  0 &  0 &  0 & ... &  0 &  0 & -2 &  2\n",
    "\\end{bmatrix}\n",
    "$$\n",
    "\n",
    "Next, build three N-element vectors and pack these into a 3xN matrix.\n",
    "* For the emissive case, use just the color matching functions.\n",
    "* For the reflectance case, element-wise multiply the color matching functions with the illuminant.\n",
    "\n",
    "The matrix shown here is its transpose.\n",
    "\n",
    "$$\n",
    "Aw^T = \\begin{bmatrix}\n",
    " 0.00137   & 0.00424  & 0.0143   & 0.0435  & ... \\\\\n",
    " 0.0000390 & 0.000120 & 0.000396 & 0.00121 & ... \\\\\n",
    " 0.00645   & 0.0201   & 0.0679   & 0.207   & ...\n",
    "\\end{bmatrix}\n",
    "$$\n",
    "\n",
    "Pack everything so far into a matrix as follows, to get an (N+3)x(N+3) matrix, and then take its inverse:\n",
    "\n",
    "$$\n",
    "B = \\begin{bmatrix}\n",
    "d & Aw \\\\\n",
    "Aw^T & 0\n",
    "\\end{bmatrix}^{-1}\n",
    "$$\n",
    "\n",
    "The top right N rows x 3 columns become the three N-element vectors,\n",
    "$\\rho_x$, $\\rho_y$, $\\rho_z$.\n",
    "\n",
    "All the calculations up to this point will be the same for all input colors,\n",
    "so you can store away the intermediate results.\n",
    "\n",
    "To then recover a spectrum for a color, you just perform a linear combination\n",
    "of those three $\\rho$ vectors with the X,Y,Z values from the input color:\n",
    "\n",
    "$$\n",
    "S = X \\rho_x + Y \\rho_y + Z \\rho_z\n",
    "$$\n",
    "\n",
    "I found that on occasion this did still produce negative values for some inputs.\n",
    "In this case, you can truncate the values, but if you're trying to get perfect\n",
    "round-trip results back to a color, that will mess with the values. I'm yet to\n",
    "find any spectral recovery method which avoids this issue entirely.\n"
   ],
   "metadata": {
    "collapsed": false,
    "pycharm": {
     "name": "#%% md\n"
    }
   }
  }
 ],
 "metadata": {
  "kernelspec": {
   "display_name": "Kotlin",
   "language": "kotlin",
   "name": "kotlin"
  },
  "datalore": {
   "version": 1,
   "computation_mode": "REACTIVE",
   "package_manager": "pip",
   "base_environment": "default",
   "packages": []
  }
 },
 "nbformat": 4,
 "nbformat_minor": 4
}